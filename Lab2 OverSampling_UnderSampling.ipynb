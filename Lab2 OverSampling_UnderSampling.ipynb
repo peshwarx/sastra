{
  "nbformat": 4,
  "nbformat_minor": 0,
  "metadata": {
    "colab": {
      "provenance": []
    },
    "kernelspec": {
      "name": "python3",
      "display_name": "Python 3"
    },
    "language_info": {
      "name": "python"
    }
  },
  "cells": [
    {
      "cell_type": "code",
      "execution_count": null,
      "metadata": {
        "id": "dMsUn3uOBjL2"
      },
      "outputs": [],
      "source": [
        "import pandas as pd\n",
        "x=pd.read_csv(\"kdd_train.csv\")\n"
      ]
    },
    {
      "cell_type": "code",
      "source": [
        "x[\"labels\"] = x[\"labels\"].replace(['neptune', 'warezclient', 'ipsweep', 'portsweep',\n",
        "       'teardrop', 'nmap', 'satan', 'smurf', 'pod', 'back',\n",
        "       'guess_passwd', 'ftp_write', 'multihop', 'rootkit',\n",
        "       'buffer_overflow', 'imap', 'warezmaster', 'phf', 'land',\n",
        "       'loadmodule', 'spy', 'perl'], 'attack')"
      ],
      "metadata": {
        "id": "ApsTQNUPCdhC"
      },
      "execution_count": null,
      "outputs": []
    },
    {
      "cell_type": "code",
      "source": [
        "x[\"labels\"].unique()"
      ],
      "metadata": {
        "colab": {
          "base_uri": "https://localhost:8080/"
        },
        "id": "m8ZZuZ7OCfq9",
        "outputId": "563c4a3a-0ce9-4fdb-d50a-d03dcd46332a"
      },
      "execution_count": null,
      "outputs": [
        {
          "output_type": "execute_result",
          "data": {
            "text/plain": [
              "array(['normal', 'attack'], dtype=object)"
            ]
          },
          "metadata": {},
          "execution_count": 3
        }
      ]
    },
    {
      "cell_type": "code",
      "source": [
        "x['labels'] = x['labels'].map({'normal': 0, 'attack': 1})"
      ],
      "metadata": {
        "id": "cDy5CWJ2Dj8b"
      },
      "execution_count": null,
      "outputs": []
    },
    {
      "cell_type": "code",
      "source": [
        "x[\"labels\"].unique()"
      ],
      "metadata": {
        "colab": {
          "base_uri": "https://localhost:8080/"
        },
        "id": "d5UwrGnqE_fE",
        "outputId": "4233d68d-9a2a-446a-e45a-da5fed879086"
      },
      "execution_count": null,
      "outputs": [
        {
          "output_type": "execute_result",
          "data": {
            "text/plain": [
              "array([0, 1])"
            ]
          },
          "metadata": {},
          "execution_count": 5
        }
      ]
    },
    {
      "cell_type": "code",
      "source": [
        "x.columns"
      ],
      "metadata": {
        "colab": {
          "base_uri": "https://localhost:8080/"
        },
        "id": "5Losh4khHOK1",
        "outputId": "29b75352-ce26-4af5-bac6-0ccd0c231d71"
      },
      "execution_count": null,
      "outputs": [
        {
          "output_type": "execute_result",
          "data": {
            "text/plain": [
              "Index(['duration', 'protocol_type', 'service', 'flag', 'src_bytes',\n",
              "       'dst_bytes', 'land', 'wrong_fragment', 'urgent', 'hot',\n",
              "       'num_failed_logins', 'logged_in', 'num_compromised', 'root_shell',\n",
              "       'su_attempted', 'num_root', 'num_file_creations', 'num_shells',\n",
              "       'num_access_files', 'num_outbound_cmds', 'is_host_login',\n",
              "       'is_guest_login', 'count', 'srv_count', 'serror_rate',\n",
              "       'srv_serror_rate', 'rerror_rate', 'srv_rerror_rate', 'same_srv_rate',\n",
              "       'diff_srv_rate', 'srv_diff_host_rate', 'dst_host_count',\n",
              "       'dst_host_srv_count', 'dst_host_same_srv_rate',\n",
              "       'dst_host_diff_srv_rate', 'dst_host_same_src_port_rate',\n",
              "       'dst_host_srv_diff_host_rate', 'dst_host_serror_rate',\n",
              "       'dst_host_srv_serror_rate', 'dst_host_rerror_rate',\n",
              "       'dst_host_srv_rerror_rate', 'labels'],\n",
              "      dtype='object')"
            ]
          },
          "metadata": {},
          "execution_count": 6
        }
      ]
    },
    {
      "cell_type": "code",
      "source": [
        "X = x.iloc[:, :-1].values"
      ],
      "metadata": {
        "id": "UDlfOpHHIJ47"
      },
      "execution_count": null,
      "outputs": []
    },
    {
      "cell_type": "code",
      "source": [
        "y = x.iloc[:, 41].values"
      ],
      "metadata": {
        "id": "Q_hyyfyLIVDq"
      },
      "execution_count": null,
      "outputs": []
    },
    {
      "cell_type": "code",
      "source": [
        "#encoding categorical data\n",
        "from sklearn.preprocessing import LabelEncoder, OneHotEncoder\n",
        "\n",
        "#first applying label encoding to convert strings to number.\n",
        "#display(x[:,2])\n",
        "labelencoder_x_1 = LabelEncoder()\n",
        "labelencoder_x_2 = LabelEncoder()\n",
        "labelencoder_x_3 = LabelEncoder()\n",
        "X[:, 1] = labelencoder_x_1.fit_transform(X[:, 1])\n",
        "X[:, 2] = labelencoder_x_2.fit_transform(X[:, 2])\n",
        "X[:, 3] = labelencoder_x_3.fit_transform(X[:, 3])"
      ],
      "metadata": {
        "id": "K72liprpG26l"
      },
      "execution_count": null,
      "outputs": []
    },
    {
      "cell_type": "code",
      "source": [
        "from sklearn import datasets\n",
        "from sklearn.model_selection import train_test_split\n",
        "import numpy as np\n",
        "from collections import Counter"
      ],
      "metadata": {
        "id": "6qgKR3TGVamr"
      },
      "execution_count": null,
      "outputs": []
    },
    {
      "cell_type": "code",
      "source": [
        "X_train, X_test, y_train, y_test = train_test_split(X, y, test_size=0.33, random_state=42)\n",
        "print('Original dataset shape {}'.format(Counter(y)))\n",
        "print('Training dataset shape {}'.format(Counter(y_train)))"
      ],
      "metadata": {
        "colab": {
          "base_uri": "https://localhost:8080/"
        },
        "id": "oSmhdgzOEbv7",
        "outputId": "84dd5396-4282-4a46-d61e-1a3655aa70ca"
      },
      "execution_count": null,
      "outputs": [
        {
          "output_type": "stream",
          "name": "stdout",
          "text": [
            "Original dataset shape Counter({0: 67343, 1: 58630})\n",
            "Training dataset shape Counter({0: 45150, 1: 39251})\n"
          ]
        }
      ]
    },
    {
      "cell_type": "code",
      "source": [
        "from imblearn.datasets import make_imbalance\n",
        "X_rs, y_rs = make_imbalance(X_train, y_train, sampling_strategy={1: 1000, 0: 65},\n",
        "                      random_state=0)\n",
        "print('Random undersampling {}'.format(Counter(y_rs)))"
      ],
      "metadata": {
        "colab": {
          "base_uri": "https://localhost:8080/"
        },
        "id": "XF3PcMcHLwqs",
        "outputId": "7ea5fcf1-a427-43aa-9a68-e2d48722e8bd"
      },
      "execution_count": null,
      "outputs": [
        {
          "output_type": "stream",
          "name": "stdout",
          "text": [
            "Random undersampling Counter({1: 1000, 0: 65})\n"
          ]
        }
      ]
    },
    {
      "cell_type": "code",
      "source": [
        "X_rs.shape"
      ],
      "metadata": {
        "colab": {
          "base_uri": "https://localhost:8080/"
        },
        "id": "Sk9tMaVBsGvH",
        "outputId": "19506d2d-4d45-463f-f6a3-355a24a35e9f"
      },
      "execution_count": null,
      "outputs": [
        {
          "output_type": "execute_result",
          "data": {
            "text/plain": [
              "(1065, 41)"
            ]
          },
          "metadata": {},
          "execution_count": 33
        }
      ]
    },
    {
      "cell_type": "code",
      "source": [
        "from imblearn.under_sampling import (RandomUnderSampler, \n",
        "                                     ClusterCentroids,\n",
        "                                     TomekLinks,\n",
        "                                     NeighbourhoodCleaningRule,\n",
        "                                     NearMiss)"
      ],
      "metadata": {
        "id": "QOIuj2EXE6tI"
      },
      "execution_count": null,
      "outputs": []
    },
    {
      "cell_type": "code",
      "source": [
        "#sampler = RandomUnderSampler(sampling_strategy={1: 1000, 0: 1000})\n",
        "sampler = RandomUnderSampler()\n",
        "X_rs1, y_rs1 = sampler.fit_resample(X_train, y_train)\n",
        "print('Random undersampling {}'.format(Counter(y_rs1)))\n",
        "\n"
      ],
      "metadata": {
        "colab": {
          "base_uri": "https://localhost:8080/"
        },
        "id": "gqmgLTwOFnXK",
        "outputId": "a640cc0d-560a-42b1-f18f-45ff77494c8a"
      },
      "execution_count": null,
      "outputs": [
        {
          "output_type": "stream",
          "name": "stdout",
          "text": [
            "Random undersampling Counter({0: 39251, 1: 39251})\n"
          ]
        }
      ]
    },
    {
      "cell_type": "code",
      "source": [
        "X_rs1.shape"
      ],
      "metadata": {
        "colab": {
          "base_uri": "https://localhost:8080/"
        },
        "id": "b2XpTzGzrNUT",
        "outputId": "53b4ac6d-8008-4669-c9f9-c1b577022d12"
      },
      "execution_count": null,
      "outputs": [
        {
          "output_type": "execute_result",
          "data": {
            "text/plain": [
              "(78502, 41)"
            ]
          },
          "metadata": {},
          "execution_count": 27
        }
      ]
    },
    {
      "cell_type": "code",
      "source": [
        "sampler = ClusterCentroids(sampling_strategy={1: 1000, 0: 1000})\n",
        "X_rs2, y_rs2 = sampler.fit_resample(X_train, y_train)\n",
        "print('Cluster centriods undersampling {}'.format(Counter(y_rs2)))\n"
      ],
      "metadata": {
        "colab": {
          "base_uri": "https://localhost:8080/"
        },
        "id": "aizlbhVmFsYx",
        "outputId": "29215171-f6a1-46b9-a484-e21a18fba20b"
      },
      "execution_count": null,
      "outputs": [
        {
          "output_type": "stream",
          "name": "stdout",
          "text": [
            "Cluster centriods undersampling Counter({0: 1000, 1: 1000})\n"
          ]
        }
      ]
    },
    {
      "cell_type": "code",
      "source": [
        "X_rs2.shape"
      ],
      "metadata": {
        "colab": {
          "base_uri": "https://localhost:8080/"
        },
        "id": "SHSDYilqqU7Y",
        "outputId": "c387c48c-bfd7-44be-e2a2-c6ff1f88a5db"
      },
      "execution_count": null,
      "outputs": [
        {
          "output_type": "execute_result",
          "data": {
            "text/plain": [
              "(2000, 41)"
            ]
          },
          "metadata": {},
          "execution_count": 34
        }
      ]
    },
    {
      "cell_type": "code",
      "source": [
        "sampler = TomekLinks()\n",
        "X_rs3, y_rs3 = sampler.fit_resample(X_train, y_train)\n",
        "print('TomekLinks undersampling {}'.format(Counter(y_rs3)))"
      ],
      "metadata": {
        "id": "dXRVSG-HGDqT",
        "outputId": "64dff5a1-309c-47e1-b0db-5045e8e6c1f1",
        "colab": {
          "base_uri": "https://localhost:8080/"
        }
      },
      "execution_count": null,
      "outputs": [
        {
          "output_type": "stream",
          "name": "stdout",
          "text": [
            "TomekLinks undersampling Counter({0: 45118, 1: 39251})\n"
          ]
        }
      ]
    },
    {
      "cell_type": "code",
      "source": [
        "X_rs3.shape"
      ],
      "metadata": {
        "colab": {
          "base_uri": "https://localhost:8080/"
        },
        "id": "jEzunkkbr3Ok",
        "outputId": "7015371f-ec43-48f4-ea5c-67259d46755a"
      },
      "execution_count": null,
      "outputs": [
        {
          "output_type": "execute_result",
          "data": {
            "text/plain": [
              "(84369, 41)"
            ]
          },
          "metadata": {},
          "execution_count": 36
        }
      ]
    },
    {
      "cell_type": "code",
      "source": [
        "sampler = NeighbourhoodCleaningRule() \n",
        "X_rs4, y_rs4 = sampler.fit_resample(X_train, y_train)\n",
        "print('NearestNeighbours Clearning Rule undersampling {}'.format(Counter(y_rs4)))\n"
      ],
      "metadata": {
        "colab": {
          "base_uri": "https://localhost:8080/"
        },
        "id": "1ID43ZFlMjgf",
        "outputId": "7a5aea4f-50dd-4276-84d5-f08377a29f9f"
      },
      "execution_count": null,
      "outputs": [
        {
          "output_type": "stream",
          "name": "stdout",
          "text": [
            "NearestNeighbours Clearning Rule undersampling Counter({0: 44638, 1: 39251})\n"
          ]
        }
      ]
    },
    {
      "cell_type": "code",
      "source": [
        "X_rs4.shape"
      ],
      "metadata": {
        "colab": {
          "base_uri": "https://localhost:8080/"
        },
        "id": "9GFJlFgfr6F8",
        "outputId": "08a6be09-2638-491a-eb46-2a08513b25fe"
      },
      "execution_count": null,
      "outputs": [
        {
          "output_type": "execute_result",
          "data": {
            "text/plain": [
              "(83889, 41)"
            ]
          },
          "metadata": {},
          "execution_count": 38
        }
      ]
    },
    {
      "cell_type": "code",
      "source": [
        "sampler = NearMiss() \n",
        "X_rs5, y_rs5 = sampler.fit_resample(X_train, y_train)\n",
        "print('NearMiss{}'.format(Counter(y_rs5)))\n"
      ],
      "metadata": {
        "colab": {
          "base_uri": "https://localhost:8080/"
        },
        "id": "OWNJPIm_MtDS",
        "outputId": "ef54dc53-639f-4724-938e-6af172c7f7c6"
      },
      "execution_count": null,
      "outputs": [
        {
          "output_type": "stream",
          "name": "stdout",
          "text": [
            "NearMissCounter({0: 39251, 1: 39251})\n"
          ]
        }
      ]
    },
    {
      "cell_type": "code",
      "source": [
        "X_rs5.shape"
      ],
      "metadata": {
        "colab": {
          "base_uri": "https://localhost:8080/"
        },
        "id": "ONJj95yur9aI",
        "outputId": "307903b6-c766-49ba-a421-747ff78b3be1"
      },
      "execution_count": null,
      "outputs": [
        {
          "output_type": "execute_result",
          "data": {
            "text/plain": [
              "(78502, 41)"
            ]
          },
          "metadata": {},
          "execution_count": 40
        }
      ]
    },
    {
      "cell_type": "code",
      "source": [
        "from imblearn.over_sampling import (RandomOverSampler, \n",
        "                                    SMOTE, \n",
        "                                    ADASYN)"
      ],
      "metadata": {
        "id": "hwLerdzZM7bk"
      },
      "execution_count": null,
      "outputs": []
    },
    {
      "cell_type": "code",
      "source": [
        "# RandomOverSampler\n",
        "  # With over-sampling methods, the number of samples in a class\n",
        "  # should be greater or equal to the original number of samples.\n",
        "#sampler = RandomOverSampler(sampling_strategy={1: 46000, 0:46000})\n",
        "sampler = RandomOverSampler()\n",
        "X_rs6, y_rs6 = sampler.fit_resample(X_train, y_train)\n",
        "print('RandomOverSampler {}'.format(Counter(y_rs6)))\n"
      ],
      "metadata": {
        "colab": {
          "base_uri": "https://localhost:8080/"
        },
        "id": "8p-1xrKHNBjJ",
        "outputId": "99305aa0-ca52-4a72-f389-1009f36c184e"
      },
      "execution_count": null,
      "outputs": [
        {
          "output_type": "stream",
          "name": "stdout",
          "text": [
            "RandomOverSampler Counter({1: 45150, 0: 45150})\n"
          ]
        }
      ]
    },
    {
      "cell_type": "code",
      "source": [
        "X_rs6.shape"
      ],
      "metadata": {
        "colab": {
          "base_uri": "https://localhost:8080/"
        },
        "id": "RBPUqmUDtLaD",
        "outputId": "68bcfee8-6f82-4e5c-eae2-ec08e1850e1c"
      },
      "execution_count": null,
      "outputs": [
        {
          "output_type": "execute_result",
          "data": {
            "text/plain": [
              "(90300, 41)"
            ]
          },
          "metadata": {},
          "execution_count": 43
        }
      ]
    },
    {
      "cell_type": "code",
      "source": [
        "sampler = SMOTE()\n",
        "X_rs7, y_rs7 = sampler.fit_resample(X_train, y_train)\n",
        "print('SMOTE {}'.format(Counter(y_rs7)))\n"
      ],
      "metadata": {
        "colab": {
          "base_uri": "https://localhost:8080/"
        },
        "id": "Q0pCPanTNF2v",
        "outputId": "dbdd3a2e-2674-4052-8d4e-c1f1ae1ce3ce"
      },
      "execution_count": null,
      "outputs": [
        {
          "output_type": "stream",
          "name": "stdout",
          "text": [
            "SMOTE Counter({1: 45150, 0: 45150})\n"
          ]
        }
      ]
    },
    {
      "cell_type": "code",
      "source": [
        "X_rs7.shape"
      ],
      "metadata": {
        "colab": {
          "base_uri": "https://localhost:8080/"
        },
        "id": "F6iKQjE9tQ9N",
        "outputId": "0e6f49a3-44c0-479c-e534-5dd49de4be3d"
      },
      "execution_count": null,
      "outputs": [
        {
          "output_type": "execute_result",
          "data": {
            "text/plain": [
              "(90300, 41)"
            ]
          },
          "metadata": {},
          "execution_count": 45
        }
      ]
    },
    {
      "cell_type": "code",
      "source": [
        "sampler = ADASYN()\n",
        "X_rs8, y_rs8 = sampler.fit_resample(X_train, y_train)\n",
        "print('ADASYN {}'.format(Counter(y_rs8)))\n"
      ],
      "metadata": {
        "colab": {
          "base_uri": "https://localhost:8080/"
        },
        "id": "UBXNBFDANMEp",
        "outputId": "c2db6c1c-58a6-42da-f9ff-934ef2b74828"
      },
      "execution_count": null,
      "outputs": [
        {
          "output_type": "stream",
          "name": "stdout",
          "text": [
            "ADASYN Counter({1: 45227, 0: 45150})\n"
          ]
        }
      ]
    },
    {
      "cell_type": "code",
      "source": [
        "X_rs8.shape"
      ],
      "metadata": {
        "colab": {
          "base_uri": "https://localhost:8080/"
        },
        "id": "rge9ANactUEH",
        "outputId": "40e145fa-85f8-4ae5-aafd-d38cb52d05bd"
      },
      "execution_count": null,
      "outputs": [
        {
          "output_type": "execute_result",
          "data": {
            "text/plain": [
              "(90377, 41)"
            ]
          },
          "metadata": {},
          "execution_count": 47
        }
      ]
    }
  ]
}